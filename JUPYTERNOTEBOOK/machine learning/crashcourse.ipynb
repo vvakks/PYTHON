{
 "cells": [
  {
   "cell_type": "code",
   "execution_count": 1,
   "id": "5a78832f",
   "metadata": {},
   "outputs": [
    {
     "name": "stdout",
     "output_type": "stream",
     "text": [
      "Collecting scikit-learn==0.23.0\n",
      "  Using cached scikit-learn-0.23.0.tar.gz (7.2 MB)\n",
      "  Installing build dependencies: started\n",
      "  Installing build dependencies: finished with status 'error'\n",
      "Note: you may need to restart the kernel to use updated packages.\n"
     ]
    },
    {
     "name": "stderr",
     "output_type": "stream",
     "text": [
      "  error: subprocess-exited-with-error\n",
      "  \n",
      "  pip subprocess to install build dependencies did not run successfully.\n",
      "  exit code: 1\n",
      "  \n",
      "  [64 lines of output]\n",
      "  Ignoring numpy: markers 'python_version == \"3.6\" and platform_system != \"AIX\"' don't match your environment\n",
      "  Ignoring numpy: markers 'python_version == \"3.7\" and platform_system != \"AIX\"' don't match your environment\n",
      "  Ignoring numpy: markers 'python_version == \"3.6\" and platform_system == \"AIX\"' don't match your environment\n",
      "  Ignoring numpy: markers 'python_version == \"3.7\" and platform_system == \"AIX\"' don't match your environment\n",
      "  Ignoring numpy: markers 'python_version >= \"3.8\" and platform_system == \"AIX\"' don't match your environment\n",
      "  Collecting setuptools\n",
      "    Using cached setuptools-80.9.0-py3-none-any.whl.metadata (6.6 kB)\n",
      "  Collecting wheel\n",
      "    Using cached wheel-0.45.1-py3-none-any.whl.metadata (2.3 kB)\n",
      "  Collecting Cython>=0.28.5\n",
      "    Using cached cython-3.1.2-cp313-cp313-win_amd64.whl.metadata (6.0 kB)\n",
      "  Collecting numpy==1.17.3\n",
      "    Using cached numpy-1.17.3.zip (6.4 MB)\n",
      "    Installing build dependencies: started\n",
      "    Installing build dependencies: finished with status 'done'\n",
      "    Getting requirements to build wheel: started\n",
      "    Getting requirements to build wheel: finished with status 'done'\n",
      "    Preparing metadata (pyproject.toml): started\n",
      "    Preparing metadata (pyproject.toml): finished with status 'error'\n",
      "    error: subprocess-exited-with-error\n",
      "  \n",
      "    Preparing metadata (pyproject.toml) did not run successfully.\n",
      "    exit code: 1\n",
      "  \n",
      "    [28 lines of output]\n",
      "    Running from numpy source directory.\n",
      "    <string>:418: UserWarning: Unrecognized setuptools command, proceeding with generating Cython sources and expanding templates\n",
      "    Traceback (most recent call last):\n",
      "      File \u001b[35m\"C:\\Users\\varke\\OneDrive\\Desktop\\PYTHON\\.venv\\Lib\\site-packages\\pip\\_vendor\\pyproject_hooks\\_in_process\\_in_process.py\"\u001b[0m, line \u001b[35m389\u001b[0m, in \u001b[35m<module>\u001b[0m\n",
      "        \u001b[31mmain\u001b[0m\u001b[1;31m()\u001b[0m\n",
      "        \u001b[31m~~~~\u001b[0m\u001b[1;31m^^\u001b[0m\n",
      "      File \u001b[35m\"C:\\Users\\varke\\OneDrive\\Desktop\\PYTHON\\.venv\\Lib\\site-packages\\pip\\_vendor\\pyproject_hooks\\_in_process\\_in_process.py\"\u001b[0m, line \u001b[35m373\u001b[0m, in \u001b[35mmain\u001b[0m\n",
      "        json_out[\"return_val\"] = \u001b[31mhook\u001b[0m\u001b[1;31m(**hook_input[\"kwargs\"])\u001b[0m\n",
      "                                 \u001b[31m~~~~\u001b[0m\u001b[1;31m^^^^^^^^^^^^^^^^^^^^^^^^\u001b[0m\n",
      "      File \u001b[35m\"C:\\Users\\varke\\OneDrive\\Desktop\\PYTHON\\.venv\\Lib\\site-packages\\pip\\_vendor\\pyproject_hooks\\_in_process\\_in_process.py\"\u001b[0m, line \u001b[35m175\u001b[0m, in \u001b[35mprepare_metadata_for_build_wheel\u001b[0m\n",
      "        return hook(metadata_directory, config_settings)\n",
      "      File \u001b[35m\"C:\\Users\\varke\\AppData\\Local\\Temp\\pip-build-env-04ubk_an\\overlay\\Lib\\site-packages\\setuptools\\build_meta.py\"\u001b[0m, line \u001b[35m374\u001b[0m, in \u001b[35mprepare_metadata_for_build_wheel\u001b[0m\n",
      "        \u001b[31mself.run_setup\u001b[0m\u001b[1;31m()\u001b[0m\n",
      "        \u001b[31m~~~~~~~~~~~~~~\u001b[0m\u001b[1;31m^^\u001b[0m\n",
      "      File \u001b[35m\"C:\\Users\\varke\\AppData\\Local\\Temp\\pip-build-env-04ubk_an\\overlay\\Lib\\site-packages\\setuptools\\build_meta.py\"\u001b[0m, line \u001b[35m512\u001b[0m, in \u001b[35mrun_setup\u001b[0m\n",
      "        \u001b[31msuper().run_setup\u001b[0m\u001b[1;31m(setup_script=setup_script)\u001b[0m\n",
      "        \u001b[31m~~~~~~~~~~~~~~~~~\u001b[0m\u001b[1;31m^^^^^^^^^^^^^^^^^^^^^^^^^^^\u001b[0m\n",
      "      File \u001b[35m\"C:\\Users\\varke\\AppData\\Local\\Temp\\pip-build-env-04ubk_an\\overlay\\Lib\\site-packages\\setuptools\\build_meta.py\"\u001b[0m, line \u001b[35m317\u001b[0m, in \u001b[35mrun_setup\u001b[0m\n",
      "        \u001b[31mexec\u001b[0m\u001b[1;31m(code, locals())\u001b[0m\n",
      "        \u001b[31m~~~~\u001b[0m\u001b[1;31m^^^^^^^^^^^^^^^^\u001b[0m\n",
      "      File \u001b[35m\"<string>\"\u001b[0m, line \u001b[35m443\u001b[0m, in \u001b[35m<module>\u001b[0m\n",
      "      File \u001b[35m\"<string>\"\u001b[0m, line \u001b[35m422\u001b[0m, in \u001b[35msetup_package\u001b[0m\n",
      "      File \u001b[35m\"C:\\Users\\varke\\AppData\\Local\\Temp\\pip-install-jhl0tmzp\\numpy_78db2cbb163f4beb88bde0f64cc63013\\numpy\\distutils\\__init__.py\"\u001b[0m, line \u001b[35m6\u001b[0m, in \u001b[35m<module>\u001b[0m\n",
      "        from . import ccompiler\n",
      "      File \u001b[35m\"C:\\Users\\varke\\AppData\\Local\\Temp\\pip-install-jhl0tmzp\\numpy_78db2cbb163f4beb88bde0f64cc63013\\numpy\\distutils\\ccompiler.py\"\u001b[0m, line \u001b[35m111\u001b[0m, in \u001b[35m<module>\u001b[0m\n",
      "        replace_method(\u001b[1;31mCCompiler\u001b[0m, 'find_executables', CCompiler_find_executables)\n",
      "                       \u001b[1;31m^^^^^^^^^\u001b[0m\n",
      "    \u001b[1;35mNameError\u001b[0m: \u001b[35mname 'CCompiler' is not defined. Did you mean: 'ccompiler'?\u001b[0m\n",
      "    [end of output]\n",
      "  \n",
      "    note: This error originates from a subprocess, and is likely not a problem with pip.\n",
      "  error: metadata-generation-failed\n",
      "  \n",
      "  Encountered error while generating package metadata.\n",
      "  \n",
      "  See above for output.\n",
      "  \n",
      "  note: This is an issue with the package mentioned above, not pip.\n",
      "  hint: See above for details.\n",
      "  [end of output]\n",
      "  \n",
      "  note: This error originates from a subprocess, and is likely not a problem with pip.\n",
      "error: subprocess-exited-with-error\n",
      "\n",
      "pip subprocess to install build dependencies did not run successfully.\n",
      "exit code: 1\n",
      "\n",
      "See above for output.\n",
      "\n",
      "note: This error originates from a subprocess, and is likely not a problem with pip.\n"
     ]
    }
   ],
   "source": [
    "%pip install --upgrade scikit-learn==0.23.0"
   ]
  },
  {
   "cell_type": "code",
   "execution_count": 4,
   "id": "8f437a54",
   "metadata": {},
   "outputs": [],
   "source": [
    "from sklearn.datasets import fetch_california_housing"
   ]
  },
  {
   "cell_type": "code",
   "execution_count": 5,
   "id": "be5fea80-8a4c-4e48-b210-69cb085b8844",
   "metadata": {},
   "outputs": [],
   "source": [
    "X,y = fetch_california_housing(return_X_y=True)"
   ]
  },
  {
   "cell_type": "code",
   "execution_count": 6,
   "id": "a2cbbeeb-4260-4aae-a60a-faee6a6690b4",
   "metadata": {},
   "outputs": [
    {
     "ename": "ModuleNotFoundError",
     "evalue": "No module named 'sklearn.neighbours'",
     "output_type": "error",
     "traceback": [
      "\u001b[31m-----------------------------------------------------------------\u001b[39m",
      "\u001b[31mModuleNotFoundError\u001b[39m             Traceback (most recent call last)",
      "\u001b[36mCell\u001b[39m\u001b[36m \u001b[39m\u001b[32mIn[6]\u001b[39m\u001b[32m, line 1\u001b[39m\n\u001b[32m----> \u001b[39m\u001b[32m1\u001b[39m \u001b[38;5;28;01mfrom\u001b[39;00m\u001b[38;5;250m \u001b[39m\u001b[34;01msklearn\u001b[39;00m\u001b[34;01m.\u001b[39;00m\u001b[34;01mneighbours\u001b[39;00m\u001b[38;5;250m \u001b[39m\u001b[38;5;28;01mimport\u001b[39;00m KNeighboursRegressor\n",
      "\u001b[31mModuleNotFoundError\u001b[39m: No module named 'sklearn.neighbours'"
     ]
    }
   ],
   "source": [
    "from sklearn.neighbours import KNeighboursRegressor"
   ]
  },
  {
   "cell_type": "code",
   "execution_count": null,
   "id": "af6e5c2c-b02d-4208-8e9c-477f6c9a9e6f",
   "metadata": {},
   "outputs": [],
   "source": []
  }
 ],
 "metadata": {
  "kernelspec": {
   "display_name": "Python 3 (ipykernel)",
   "language": "python",
   "name": "python3"
  },
  "language_info": {
   "codemirror_mode": {
    "name": "ipython",
    "version": 3
   },
   "file_extension": ".py",
   "mimetype": "text/x-python",
   "name": "python",
   "nbconvert_exporter": "python",
   "pygments_lexer": "ipython3",
   "version": "3.13.3"
  }
 },
 "nbformat": 4,
 "nbformat_minor": 5
}
